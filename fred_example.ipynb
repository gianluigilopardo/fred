{
 "cells": [
  {
   "cell_type": "markdown",
   "id": "5b62465e",
   "metadata": {},
   "source": [
    "# Faithful and Robust Local Interpretability for Textual Predictions\n",
    "## Example of FRED for text classification"
   ]
  },
  {
   "cell_type": "code",
   "execution_count": 1,
   "id": "a9004a1f",
   "metadata": {},
   "outputs": [],
   "source": [
    "import numpy as np\n",
    "from sklearn.metrics import accuracy_score, confusion_matrix\n",
    "np.random.seed(42)"
   ]
  },
  {
   "cell_type": "code",
   "execution_count": 2,
   "id": "ec70af06",
   "metadata": {},
   "outputs": [],
   "source": [
    "import warnings\n",
    "warnings.filterwarnings(\"ignore\")"
   ]
  },
  {
   "cell_type": "code",
   "execution_count": 3,
   "id": "1443e21f",
   "metadata": {},
   "outputs": [],
   "source": [
    "# pip install -r 'requirements.txt'"
   ]
  },
  {
   "cell_type": "code",
   "execution_count": 4,
   "id": "60176596",
   "metadata": {},
   "outputs": [],
   "source": [
    "# !python -m spacy download en_core_web_lg"
   ]
  },
  {
   "cell_type": "code",
   "execution_count": 5,
   "id": "db5bdfec",
   "metadata": {},
   "outputs": [],
   "source": [
    "from fred.explainer import Fred"
   ]
  },
  {
   "cell_type": "code",
   "execution_count": 6,
   "id": "8653908a",
   "metadata": {},
   "outputs": [],
   "source": [
    "from utils.setup import *"
   ]
  },
  {
   "cell_type": "markdown",
   "id": "1b965546",
   "metadata": {},
   "source": [
    "* model: *Random Forest* \n",
    "* dataset: *tweets hate speech detection* https://huggingface.co/datasets/tweets_hate_speech_detection"
   ]
  },
  {
   "cell_type": "code",
   "execution_count": 7,
   "id": "3b766560",
   "metadata": {},
   "outputs": [],
   "source": [
    "dataset_name = 'tweets'\n",
    "model_name = 'forest_classifier'\n",
    "\n",
    "# Set up the dataset\n",
    "X_train, X_test, y_train, y_test, class_names = setup_dataset(dataset_name)\n",
    "\n",
    "# Set up the model\n",
    "model = setup_model(model_name)\n",
    "\n",
    "model.train(X_train, y_train)"
   ]
  },
  {
   "cell_type": "code",
   "execution_count": 8,
   "id": "5fa9425c",
   "metadata": {},
   "outputs": [
    {
     "name": "stdout",
     "output_type": "stream",
     "text": [
      "Confusion matrix: \n",
      " [[7415   17]\n",
      " [ 315  244]]\n",
      "accuracy: 0.958453259917407\n"
     ]
    }
   ],
   "source": [
    "# Evaluate model performance\n",
    "y_pred = model.predict(X_test)\n",
    "cm = confusion_matrix(y_test, y_pred)\n",
    "print(f'Confusion matrix: \\n {cm}')\n",
    "accuracy = accuracy_score(y_test, y_pred)\n",
    "print(f'accuracy: {accuracy}')"
   ]
  },
  {
   "cell_type": "code",
   "execution_count": 9,
   "id": "f3502be5",
   "metadata": {},
   "outputs": [],
   "source": [
    "# subset with prediction 1\n",
    "corpus = np.asarray(X_test)[model.predict(X_test) == 1]"
   ]
  },
  {
   "cell_type": "code",
   "execution_count": 10,
   "id": "7a0de183",
   "metadata": {},
   "outputs": [
    {
     "name": "stdout",
     "output_type": "stream",
     "text": [
      "Example: 'user trumpusa when they call us homophobic misogynist they are really saying they are jealous of us w '\n",
      "\n",
      "Classified as 'hate-speech'\n"
     ]
    }
   ],
   "source": [
    "example = corpus[19] \n",
    "\n",
    "print(f'Example: \\'{example}\\'\\n')\n",
    "\n",
    "prediction = model.predict_proba([example])\n",
    "print(f'Classified as \\'{class_names[prediction.argmax(1)[0]]}\\'')"
   ]
  },
  {
   "cell_type": "markdown",
   "id": "e63f5d5f",
   "metadata": {},
   "source": [
    "### Part-of-speech sampling scheme"
   ]
  },
  {
   "cell_type": "code",
   "execution_count": 11,
   "id": "2acc0c29",
   "metadata": {},
   "outputs": [],
   "source": [
    "# Initialize the explainer\n",
    "fredpos_explainer = Fred(classifier_fn=model.predict_proba, class_names=class_names, pos=True, pos_dataset=X_test[:100])"
   ]
  },
  {
   "cell_type": "code",
   "execution_count": 12,
   "id": "2d12878d",
   "metadata": {},
   "outputs": [
    {
     "name": "stdout",
     "output_type": "stream",
     "text": [
      "\n",
      "FRED mode: 'pos sampling'.\n",
      "Example to explain: \n",
      "\t'user trumpusa when they call us homophobic misogynist they are really saying they are jealous of us w '\n",
      "Original prediction: 'hate-speech'\n",
      "Average confidence over the sample: 0.9\n",
      "\n",
      "Explaining class 'hate-speech':\n",
      "The minimal subset of tokens that make the confidence drop by 15.0% if perturbed is \n",
      "\t['misogynist']\n",
      "\n",
      "Saliency weights: \n",
      "\t[('misogynist', 0.616), ('homophobic', 0.501), ('user', 0.466), ('trumpusa', 0.437), ('saying', 0.437), ('of', 0.435), ('call', 0.426), ('are', 0.423), ('us', 0.423), ('really', 0.422)]\n"
     ]
    }
   ],
   "source": [
    "# explain the example\n",
    "fredpos_exp = fredpos_explainer.explain_instance(example, verbose=True)"
   ]
  },
  {
   "cell_type": "markdown",
   "id": "6c07f0c2",
   "metadata": {},
   "source": [
    "#### Counterfactual explanations"
   ]
  },
  {
   "cell_type": "code",
   "execution_count": 13,
   "id": "86ea385a",
   "metadata": {},
   "outputs": [
    {
     "name": "stdout",
     "output_type": "stream",
     "text": [
      "\n",
      "Counterfactual explanation for the example\n",
      "\t'user trumpusa when they call us homophobic misogynist they are really saying they are jealous of us w '\n",
      "\n",
      "FRED mode: 'pos sampling'.\n",
      "Original prediction: 'hate-speech'\n",
      "\n",
      "Sample(s) with minimal perturbation predicted as 'no-hate-speech':\n",
      "\n",
      "['user trumpusa barely they call us homophobic week they are really saying they are jealous of us via'\n",
      " 'user trumpusa when they call us antiamerican colors anyone are really saying they are jealous at us w'\n",
      " 'animals trumpusa when they call we homophobic flesh they are really saying they are jealous with us w'\n",
      " 'user trumpusa never they stands us emotional guidance they are really saying they are jealous of us w'\n",
      " 'user porn when they call us homophobic season6 they are really featuring they are natural of us w']\n",
      "\n",
      "Perturbed tokens: \n",
      "\t[['when', 'misogynist', 'w'], ['homophobic', 'misogynist', 'they', 'of'], ['user', 'us', 'misogynist', 'of'], ['when', 'call', 'homophobic', 'misogynist'], ['trumpusa', 'misogynist', 'saying', 'jealous']]\n"
     ]
    }
   ],
   "source": [
    "counter_sample, perturbed_tokens = fredpos_exp.counterfactual(counter_label='no-hate-speech', verbose=True, k=5)"
   ]
  },
  {
   "cell_type": "markdown",
   "id": "99fba813",
   "metadata": {},
   "source": [
    "### MASK sampling scheme"
   ]
  },
  {
   "cell_type": "code",
   "execution_count": 14,
   "id": "41ccd258",
   "metadata": {},
   "outputs": [],
   "source": [
    "# Initialize the explainer\n",
    "fred_explainer = Fred(classifier_fn=model.predict_proba, class_names=class_names, pos=False)"
   ]
  },
  {
   "cell_type": "code",
   "execution_count": 15,
   "id": "1f77c59f",
   "metadata": {},
   "outputs": [
    {
     "name": "stdout",
     "output_type": "stream",
     "text": [
      "\n",
      "FRED mode: 'mask sampling'.\n",
      "Example to explain: \n",
      "\t'user trumpusa when they call us homophobic misogynist they are really saying they are jealous of us w '\n",
      "Original prediction: 'hate-speech'\n",
      "Average confidence over the sample: 0.9\n",
      "\n",
      "Explaining class 'hate-speech':\n",
      "The minimal subset of tokens that make the confidence drop by 15.0% if perturbed is \n",
      "\t['homophobic']\n",
      "\n",
      "Saliency weights: \n",
      "\t[('homophobic', 0.867), ('user', 0.84), ('misogynist', 0.825), ('really', 0.814), ('of', 0.813), ('they', 0.813), ('us', 0.812), ('they', 0.812), ('call', 0.812), ('trumpusa', 0.811)]\n"
     ]
    }
   ],
   "source": [
    "# explain the example\n",
    "fred_exp = fred_explainer.explain_instance(example, verbose=True)"
   ]
  },
  {
   "cell_type": "markdown",
   "id": "9b5145bb",
   "metadata": {},
   "source": [
    "#### Counterfactual explanations"
   ]
  },
  {
   "cell_type": "code",
   "execution_count": 16,
   "id": "d862b99f",
   "metadata": {},
   "outputs": [
    {
     "name": "stdout",
     "output_type": "stream",
     "text": [
      "\n",
      "Counterfactual explanation for the example\n",
      "\t'user trumpusa when they call us homophobic misogynist they are really saying they are jealous of us w '\n",
      "\n",
      "FRED mode: 'mask sampling'.\n",
      "Original prediction: 'hate-speech'\n",
      "\n",
      "Sample(s) with minimal perturbation predicted as 'no-hate-speech':\n",
      "\n",
      "['user trumpusa when they call us homophobic UNK they UNK really saying they UNK jealous of us w'\n",
      " 'user trumpusa when they call us homophobic UNK they are really UNK they are UNK of us w'\n",
      " 'user UNK when they call us UNK UNK they are really saying they are jealous of us w'\n",
      " 'user trumpusa when they call us homophobic UNK they are really saying they UNK jealous of UNK w'\n",
      " 'user trumpusa when they call us homophobic UNK they are UNK saying they are UNK of us w']\n",
      "\n",
      "Perturbed tokens: \n",
      "\t[['misogynist', 'are', 'are'], ['misogynist', 'saying', 'jealous'], ['trumpusa', 'homophobic', 'misogynist'], ['misogynist', 'are', 'us'], ['misogynist', 'really', 'jealous']]\n"
     ]
    }
   ],
   "source": [
    "counter_sample, perturbed_tokens = fred_exp.counterfactual(counter_label='no-hate-speech', verbose=True, k=5)"
   ]
  },
  {
   "cell_type": "code",
   "execution_count": null,
   "id": "d64dabda",
   "metadata": {},
   "outputs": [],
   "source": []
  }
 ],
 "metadata": {
  "kernelspec": {
   "display_name": "Python 3",
   "language": "python",
   "name": "python3"
  },
  "language_info": {
   "codemirror_mode": {
    "name": "ipython",
    "version": 3
   },
   "file_extension": ".py",
   "mimetype": "text/x-python",
   "name": "python",
   "nbconvert_exporter": "python",
   "pygments_lexer": "ipython3",
   "version": "3.8.8"
  }
 },
 "nbformat": 4,
 "nbformat_minor": 5
}
