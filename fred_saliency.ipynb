{
 "cells": [
  {
   "cell_type": "markdown",
   "id": "efe8c01e",
   "metadata": {},
   "source": [
    "# Faithful and Robust Local Interpretability for Textual Predictions\n",
    "## Example of FRED for text classification"
   ]
  },
  {
   "cell_type": "code",
   "execution_count": 1,
   "id": "46c52f06",
   "metadata": {},
   "outputs": [],
   "source": [
    "import numpy as np\n",
    "from sklearn.metrics import accuracy_score, confusion_matrix\n",
    "np.random.seed(42)"
   ]
  },
  {
   "cell_type": "code",
   "execution_count": 2,
   "id": "2098be5e",
   "metadata": {},
   "outputs": [],
   "source": [
    "# Display the visualization\n",
    "from IPython.core.display import display, HTML"
   ]
  },
  {
   "cell_type": "code",
   "execution_count": 3,
   "id": "72083034",
   "metadata": {},
   "outputs": [],
   "source": [
    "import warnings\n",
    "warnings.filterwarnings(\"ignore\")"
   ]
  },
  {
   "cell_type": "code",
   "execution_count": 4,
   "id": "86efe387",
   "metadata": {},
   "outputs": [],
   "source": [
    "# pip install -r 'requirements.txt'"
   ]
  },
  {
   "cell_type": "code",
   "execution_count": 5,
   "id": "ec00340a",
   "metadata": {},
   "outputs": [],
   "source": [
    "# !python -m spacy download en_core_web_lg"
   ]
  },
  {
   "cell_type": "code",
   "execution_count": 6,
   "id": "88c486ab",
   "metadata": {},
   "outputs": [],
   "source": [
    "from fred.explainer import Fred"
   ]
  },
  {
   "cell_type": "code",
   "execution_count": 7,
   "id": "6ef0688c",
   "metadata": {},
   "outputs": [],
   "source": [
    "from utils.setup import *"
   ]
  },
  {
   "cell_type": "code",
   "execution_count": 8,
   "id": "fb846d17",
   "metadata": {},
   "outputs": [],
   "source": [
    "dataset_name = 'yelp'\n",
    "model_name = 'forest_classifier'\n",
    "\n",
    "# Set up the dataset\n",
    "X_train, X_test, y_train, y_test, class_names = setup_dataset(dataset_name)\n",
    "\n",
    "# Set up the model\n",
    "model = setup_model(model_name)\n",
    "\n",
    "model.train(X_train, y_train)"
   ]
  },
  {
   "cell_type": "code",
   "execution_count": 9,
   "id": "8535119a",
   "metadata": {},
   "outputs": [
    {
     "name": "stdout",
     "output_type": "stream",
     "text": [
      "Confusion matrix: \n",
      " [[105  23]\n",
      " [ 10 112]]\n",
      "accuracy: 0.868\n"
     ]
    }
   ],
   "source": [
    "# Evaluate model performance\n",
    "y_pred = model.predict(X_test)\n",
    "cm = confusion_matrix(y_test, y_pred)\n",
    "print(f'Confusion matrix: \\n {cm}')\n",
    "accuracy = accuracy_score(y_test, y_pred)\n",
    "print(f'accuracy: {accuracy}')"
   ]
  },
  {
   "cell_type": "code",
   "execution_count": 10,
   "id": "42c553ed",
   "metadata": {},
   "outputs": [
    {
     "name": "stdout",
     "output_type": "stream",
     "text": [
      "Example: 'The food is great and location is amazing but the service is really awful'\n",
      "\n",
      "Classified as 'positive'\n"
     ]
    }
   ],
   "source": [
    "example = 'The food is great and location is amazing but the service is really awful'\n",
    "\n",
    "print(f'Example: \\'{example}\\'\\n')\n",
    "\n",
    "prediction = model.predict_proba([example])\n",
    "print(f'Classified as \\'{class_names[prediction.argmax(1)[0]]}\\'')"
   ]
  },
  {
   "cell_type": "markdown",
   "id": "673a2518",
   "metadata": {},
   "source": [
    "### Part-of-speech sampling scheme"
   ]
  },
  {
   "cell_type": "code",
   "execution_count": 11,
   "id": "e1092d87",
   "metadata": {},
   "outputs": [],
   "source": [
    "# Initialize the explainer\n",
    "np.random.shuffle(X_test)\n",
    "fredpos_explainer = Fred(classifier_fn=model.predict_proba, class_names=class_names, pos=True, pos_dataset=X_test[:100])"
   ]
  },
  {
   "cell_type": "code",
   "execution_count": 12,
   "id": "60f9ec2f",
   "metadata": {},
   "outputs": [
    {
     "name": "stdout",
     "output_type": "stream",
     "text": [
      "\n",
      "FRED mode: 'pos sampling'.\n",
      "Example to explain: \n",
      "\t'the food is great and location is amazing but the service is really awful'\n",
      "Original prediction: 'positive'\n",
      "Average confidence over the sample: 0.68\n",
      "\n",
      "Explaining class 'positive':\n",
      "The minimal subset of tokens that make the confidence drop by 15.0% if perturbed is \n",
      "\t['great']\n",
      "\n",
      "Saliency weights: \n",
      "\t[('great', 0.126), ('amazing', 0.059), ('and', 0.059), ('but', 0.032), ('service', 0.013), ('location', 0.011), ('really', 0.006), ('is', 0.004), ('food', -0.003), ('is', -0.005)]\n"
     ]
    }
   ],
   "source": [
    "# explain the example\n",
    "fredpos_exp = fredpos_explainer.explain_instance(example, perturb_proba=0.1, n_sample=5000, verbose=True)"
   ]
  },
  {
   "cell_type": "code",
   "execution_count": 13,
   "id": "93069b8a",
   "metadata": {},
   "outputs": [
    {
     "data": {
      "text/html": [
       "\n",
       "        <style>\n",
       "            .token { display: inline-block; padding: 2px 5px; margin: 2px; }\n",
       "        </style>\n",
       "            <span class='token' style='background-color: rgba(255, 0, 0, 0.10554936383603737);'>the</span><span class='token' style='background-color: rgba(255, 0, 0, 0.025592244945361105);'>food</span><span class='token' style='background-color: rgba(0, 100, 0, 0.027858200682918083);'>is</span><span class='token' style='background-color: rgba(0, 100, 0, 1.0);'>great</span><span class='token' style='background-color: rgba(0, 100, 0, 0.4660123505164243);'>and</span><span class='token' style='background-color: rgba(0, 100, 0, 0.08870316413638019);'>location</span><span class='token' style='background-color: rgba(255, 0, 0, 0.04344644774026734);'>is</span><span class='token' style='background-color: rgba(0, 100, 0, 0.46720064171375336);'>amazing</span><span class='token' style='background-color: rgba(0, 100, 0, 0.2553967537303632);'>but</span><span class='token' style='background-color: rgba(255, 0, 0, 0.05974648636816967);'>the</span><span class='token' style='background-color: rgba(0, 100, 0, 0.10320382241745954);'>service</span><span class='token' style='background-color: rgba(255, 0, 0, 0.0430139205541493);'>is</span><span class='token' style='background-color: rgba(0, 100, 0, 0.04867614869938123);'>really</span><span class='token' style='background-color: rgba(255, 0, 0, 0.557014491331959);'>awful</span>"
      ],
      "text/plain": [
       "<IPython.core.display.HTML object>"
      ]
     },
     "metadata": {},
     "output_type": "display_data"
    }
   ],
   "source": [
    "visualization = fredpos_exp.html_explanation()\n",
    "display(visualization)"
   ]
  },
  {
   "cell_type": "markdown",
   "id": "b6baad0c",
   "metadata": {},
   "source": [
    "#### Counterfactual explanations"
   ]
  },
  {
   "cell_type": "code",
   "execution_count": 14,
   "id": "f14ee785",
   "metadata": {},
   "outputs": [
    {
     "name": "stdout",
     "output_type": "stream",
     "text": [
      "\n",
      "Counterfactual explanation for the example\n",
      "\t'the food is great and location is amazing but the service is really awful'\n",
      "\n",
      "FRED mode: 'pos sampling'.\n",
      "Original prediction: 'positive'\n",
      "\n",
      "Sample(s) with minimal perturbation predicted as 'negative':\n",
      "\n",
      "['the food is mundane and location is least but the service is really awful'\n",
      " 'the food is dirty so location is amazing but the service is really awful'\n",
      " 'the food is hostile yet location is amazing but the service is really awful'\n",
      " 'the food is mexican and location is neat but the service is really awful'\n",
      " 'the food is longer or location is amazing but the service is really awful']\n",
      "\n",
      "Perturbed tokens: \n",
      "\t[['great', 'amazing'], ['great', 'and'], ['great', 'and'], ['great', 'amazing'], ['great', 'and']]\n"
     ]
    }
   ],
   "source": [
    "counter_sample, perturbed_tokens = fredpos_exp.counterfactual(counter_label=class_names[0], verbose=True, k=5)"
   ]
  },
  {
   "cell_type": "markdown",
   "id": "9f9af429",
   "metadata": {},
   "source": [
    "### MASK sampling scheme"
   ]
  },
  {
   "cell_type": "code",
   "execution_count": 15,
   "id": "0925dd3b",
   "metadata": {},
   "outputs": [],
   "source": [
    "# Initialize the explainer\n",
    "fred_explainer = Fred(classifier_fn=model.predict_proba, class_names=class_names, pos=False)"
   ]
  },
  {
   "cell_type": "code",
   "execution_count": 16,
   "id": "9978f429",
   "metadata": {},
   "outputs": [
    {
     "name": "stdout",
     "output_type": "stream",
     "text": [
      "\n",
      "FRED mode: 'mask sampling'.\n",
      "Example to explain: \n",
      "\t'the food is great and location is amazing but the service is really awful'\n",
      "Original prediction: 'positive'\n",
      "Average confidence over the sample: 0.68\n",
      "\n",
      "Explaining class 'positive':\n",
      "The minimal subset of tokens that make the confidence drop by 15.0% if perturbed is \n",
      "\t['great']\n",
      "\n",
      "Saliency weights: \n",
      "\t[('great', 0.127), ('amazing', 0.073), ('and', 0.072), ('but', 0.035), ('service', 0.03), ('location', 0.021), ('really', 0.02), ('is', 0.017), ('is', 0.016), ('is', 0.015)]\n"
     ]
    }
   ],
   "source": [
    "# explain the example\n",
    "fred_exp = fred_explainer.explain_instance(example, perturb_proba=0.2, verbose=True)"
   ]
  },
  {
   "cell_type": "code",
   "execution_count": 17,
   "id": "be021f93",
   "metadata": {},
   "outputs": [
    {
     "data": {
      "text/html": [
       "\n",
       "        <style>\n",
       "            .token { display: inline-block; padding: 2px 5px; margin: 2px; }\n",
       "        </style>\n",
       "            <span class='token' style='background-color: rgba(0, 100, 0, 0.055709500579236446);'>the</span><span class='token' style='background-color: rgba(0, 100, 0, 0.054059581392547004);'>food</span><span class='token' style='background-color: rgba(0, 100, 0, 0.131932661104961);'>is</span><span class='token' style='background-color: rgba(0, 100, 0, 1.0);'>great</span><span class='token' style='background-color: rgba(0, 100, 0, 0.5704577405705307);'>and</span><span class='token' style='background-color: rgba(0, 100, 0, 0.16818576233264282);'>location</span><span class='token' style='background-color: rgba(0, 100, 0, 0.12115816044805587);'>is</span><span class='token' style='background-color: rgba(0, 100, 0, 0.5768660593581101);'>amazing</span><span class='token' style='background-color: rgba(0, 100, 0, 0.27204558132811496);'>but</span><span class='token' style='background-color: rgba(0, 100, 0, 0.026866553726221255);'>the</span><span class='token' style='background-color: rgba(0, 100, 0, 0.23813214426464827);'>service</span><span class='token' style='background-color: rgba(0, 100, 0, 0.1272644386166729);'>is</span><span class='token' style='background-color: rgba(0, 100, 0, 0.15767585944852977);'>really</span><span class='token' style='background-color: rgba(255, 0, 0, 0.24448785902283524);'>awful</span>"
      ],
      "text/plain": [
       "<IPython.core.display.HTML object>"
      ]
     },
     "metadata": {},
     "output_type": "display_data"
    }
   ],
   "source": [
    "visualization = fred_exp.html_explanation()\n",
    "display(visualization)"
   ]
  },
  {
   "cell_type": "markdown",
   "id": "1b76d496",
   "metadata": {},
   "source": [
    "#### Counterfactual explanations"
   ]
  },
  {
   "cell_type": "code",
   "execution_count": 18,
   "id": "b3bde52f",
   "metadata": {},
   "outputs": [
    {
     "name": "stdout",
     "output_type": "stream",
     "text": [
      "\n",
      "Counterfactual explanation for the example\n",
      "\t'the food is great and location is amazing but the service is really awful'\n",
      "\n",
      "FRED mode: 'mask sampling'.\n",
      "Original prediction: 'positive'\n",
      "\n",
      "Sample(s) with minimal perturbation predicted as 'negative':\n",
      "\n",
      "['the food is UNK UNK location is amazing but the service is really awful'\n",
      " 'the food is UNK UNK location is amazing but the service is really awful'\n",
      " 'the food is UNK and location is UNK but the service is really awful'\n",
      " 'the food is UNK UNK location is amazing but the service is really awful'\n",
      " 'the food is UNK UNK location is amazing but the service is really awful']\n",
      "\n",
      "Perturbed tokens: \n",
      "\t[['great', 'and'], ['great', 'and'], ['great', 'amazing'], ['great', 'and'], ['great', 'and']]\n"
     ]
    }
   ],
   "source": [
    "counter_sample, perturbed_tokens = fred_exp.counterfactual(counter_label=class_names[0], verbose=True, k=5)"
   ]
  },
  {
   "cell_type": "code",
   "execution_count": null,
   "id": "1ecfff5c",
   "metadata": {},
   "outputs": [],
   "source": []
  },
  {
   "cell_type": "code",
   "execution_count": null,
   "id": "8692de6a",
   "metadata": {},
   "outputs": [],
   "source": []
  },
  {
   "cell_type": "code",
   "execution_count": null,
   "id": "c322c540",
   "metadata": {},
   "outputs": [],
   "source": []
  }
 ],
 "metadata": {
  "kernelspec": {
   "display_name": "Python 3",
   "language": "python",
   "name": "python3"
  },
  "language_info": {
   "codemirror_mode": {
    "name": "ipython",
    "version": 3
   },
   "file_extension": ".py",
   "mimetype": "text/x-python",
   "name": "python",
   "nbconvert_exporter": "python",
   "pygments_lexer": "ipython3",
   "version": "3.8.8"
  }
 },
 "nbformat": 4,
 "nbformat_minor": 5
}
